{
  "nbformat": 4,
  "nbformat_minor": 0,
  "metadata": {
    "colab": {
      "name": "GetOldTwwets3.ipynb",
      "provenance": [],
      "collapsed_sections": [],
      "toc_visible": true,
      "include_colab_link": true
    },
    "kernelspec": {
      "name": "python3",
      "display_name": "Python 3"
    }
  },
  "cells": [
    {
      "cell_type": "markdown",
      "metadata": {
        "id": "view-in-github",
        "colab_type": "text"
      },
      "source": [
        "<a href=\"https://colab.research.google.com/github/ShreeyaKokate/Twitter-Analysis/blob/main/GetOldTwwets3.ipynb\" target=\"_parent\"><img src=\"https://colab.research.google.com/assets/colab-badge.svg\" alt=\"Open In Colab\"/></a>"
      ]
    },
    {
      "cell_type": "markdown",
      "metadata": {
        "id": "s5YGi5vL03bf"
      },
      "source": [
        "#Data Extraction \n",
        "Using GetOldTweets3\n"
      ]
    },
    {
      "cell_type": "code",
      "metadata": {
        "id": "mjVcgBxglfm_",
        "colab": {
          "base_uri": "https://localhost:8080/",
          "height": 121
        },
        "outputId": "72745448-b72d-4e79-8651-7b6d59c6c046"
      },
      "source": [
        "from google.colab import drive\n",
        "drive.mount('/content/drive')"
      ],
      "execution_count": null,
      "outputs": [
        {
          "output_type": "stream",
          "text": [
            "Go to this URL in a browser: https://accounts.google.com/o/oauth2/auth?client_id=947318989803-6bn6qk8qdgf4n4g3pfee6491hc0brc4i.apps.googleusercontent.com&redirect_uri=urn%3aietf%3awg%3aoauth%3a2.0%3aoob&scope=email%20https%3a%2f%2fwww.googleapis.com%2fauth%2fdocs.test%20https%3a%2f%2fwww.googleapis.com%2fauth%2fdrive%20https%3a%2f%2fwww.googleapis.com%2fauth%2fdrive.photos.readonly%20https%3a%2f%2fwww.googleapis.com%2fauth%2fpeopleapi.readonly&response_type=code\n",
            "\n",
            "Enter your authorization code:\n",
            "··········\n",
            "Mounted at /content/drive\n"
          ],
          "name": "stdout"
        }
      ]
    },
    {
      "cell_type": "code",
      "metadata": {
        "id": "Qum6tli6-Q1W",
        "colab": {
          "base_uri": "https://localhost:8080/",
          "height": 188
        },
        "outputId": "a54db858-db36-413f-f5fd-dde7ed48c560"
      },
      "source": [
        "!pip install GetOldTweets3"
      ],
      "execution_count": null,
      "outputs": [
        {
          "output_type": "stream",
          "text": [
            "Collecting GetOldTweets3\n",
            "  Downloading https://files.pythonhosted.org/packages/ed/f4/a00c2a7c90801abc875325bb5416ce9090ac86d06a00cc887131bd73ba45/GetOldTweets3-0.0.11-py3-none-any.whl\n",
            "Collecting pyquery>=1.2.10\n",
            "  Downloading https://files.pythonhosted.org/packages/78/43/95d42e386c61cb639d1a0b94f0c0b9f0b7d6b981ad3c043a836c8b5bc68b/pyquery-1.4.1-py2.py3-none-any.whl\n",
            "Requirement already satisfied: lxml>=3.5.0 in /usr/local/lib/python3.6/dist-packages (from GetOldTweets3) (4.2.6)\n",
            "Collecting cssselect>0.7.9\n",
            "  Downloading https://files.pythonhosted.org/packages/3b/d4/3b5c17f00cce85b9a1e6f91096e1cc8e8ede2e1be8e96b87ce1ed09e92c5/cssselect-1.1.0-py2.py3-none-any.whl\n",
            "Installing collected packages: cssselect, pyquery, GetOldTweets3\n",
            "Successfully installed GetOldTweets3-0.0.11 cssselect-1.1.0 pyquery-1.4.1\n"
          ],
          "name": "stdout"
        }
      ]
    },
    {
      "cell_type": "code",
      "metadata": {
        "id": "GnXaiq0OE9k0"
      },
      "source": [
        "import GetOldTweets3 as got\n",
        "import pandas as pd"
      ],
      "execution_count": null,
      "outputs": []
    },
    {
      "cell_type": "code",
      "metadata": {
        "id": "LFEIsLtAFOeD",
        "colab": {
          "base_uri": "https://localhost:8080/",
          "height": 34
        },
        "outputId": "90b49d30-f96a-4c2e-91df-0cf126853437"
      },
      "source": [
        "tweetCriteria = got.manager.TweetCriteria().setQuerySearch('#progun')\\\n",
        "                                           .setSince(\"2015-01-01\")\\\n",
        "                                           .setUntil(\"2016-01-01\")\\\n",
        "                                           .setMaxTweets(True)\\\n",
        "                                           .setMaxTweets(2000)\n",
        "\n",
        "tweets = got.manager.TweetManager.getTweets(tweetCriteria)\n",
        "results = [[tweet.id, tweet.text, tweet.username, tweet.retweets, tweet.favorites,tweet.date, tweet.geo,  tweet.mentions, tweet.hashtags, tweet.permalink] for tweet in tweets]\n",
        "data_set = pd.DataFrame(data=results,\n",
        "                        \n",
        "                        columns=['id', 'text','user', 'retweets', 'favourites', 'date', 'geo', 'mentions', 'hashtags', 'permalink'])\n",
        "print(len(data_set))"
      ],
      "execution_count": null,
      "outputs": [
        {
          "output_type": "stream",
          "text": [
            "2000\n"
          ],
          "name": "stdout"
        }
      ]
    },
    {
      "cell_type": "code",
      "metadata": {
        "id": "DYZj7SlJJa_x",
        "colab": {
          "base_uri": "https://localhost:8080/",
          "height": 252
        },
        "outputId": "452e6cf5-138a-4661-f52a-7be8d26c5aff"
      },
      "source": [
        "print(data_set)"
      ],
      "execution_count": null,
      "outputs": [
        {
          "output_type": "stream",
          "text": [
            "                      id  ...                                          permalink\n",
            "0     682575953504157697  ...  https://twitter.com/CedricPainvin/status/68257...\n",
            "1     682515902198202368  ...  https://twitter.com/CNM_Michael/status/6825159...\n",
            "2     682472859072069632  ...  https://twitter.com/spybaguio/status/682472859...\n",
            "3     682335700134436865  ...  https://twitter.com/sonslibertytees/status/682...\n",
            "4     682274921070735361  ...  https://twitter.com/nonsumdignus/status/682274...\n",
            "...                  ...  ...                                                ...\n",
            "1995  625481766808252416  ...  https://twitter.com/donlyle10/status/625481766...\n",
            "1996  625470699440701440  ...  https://twitter.com/RedDotArms/status/62547069...\n",
            "1997  625443369838219265  ...  https://twitter.com/CNM_Michael/status/6254433...\n",
            "1998  625427977715716096  ...  https://twitter.com/803Kirk/status/62542797771...\n",
            "1999  625395970398941184  ...  https://twitter.com/sonslibertytees/status/625...\n",
            "\n",
            "[2000 rows x 10 columns]\n"
          ],
          "name": "stdout"
        }
      ]
    },
    {
      "cell_type": "code",
      "metadata": {
        "id": "tRzhotQxR2BF"
      },
      "source": [
        "data_set.to_csv(\"/content/drive/My Drive/Progun/Original Data/15-16.csv\")"
      ],
      "execution_count": null,
      "outputs": []
    }
  ]
}